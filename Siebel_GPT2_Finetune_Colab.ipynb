{
  "cells": [
    {
      "cell_type": "markdown",
      "id": "1a39a5e4",
      "metadata": {
        "id": "1a39a5e4"
      },
      "source": [
        "\n",
        "# 🚀 Fine-tune GPT-2 on Your PDF (Siebel CRM Guide) — Colab Notebook\n",
        "\n",
        "This notebook lets you **upload a PDF**, extract text, build a dataset, **fine-tune GPT-2**, and compare **Before vs After** outputs — all in Google Colab, with no OpenAI key needed.\n",
        "\n",
        "**What you'll get:**\n",
        "1. Upload your PDF (e.g., *Siebel CRM Fundamentals, 171 pages*)\n",
        "2. Extract & clean text\n",
        "3. Create a dataset (tokenized & grouped for language modeling)\n",
        "4. Baseline generation (**Before fine-tuning**)\n",
        "5. Fine-tune GPT-2 with Hugging Face `Trainer`\n",
        "6. Compare outputs (**After fine-tuning**) side-by-side\n",
        "7. Optional: Save & export your fine-tuned model\n",
        "\n"
      ]
    },
    {
      "cell_type": "code",
      "execution_count": 8,
      "id": "324ecc69",
      "metadata": {
        "colab": {
          "base_uri": "https://localhost:8080/"
        },
        "id": "324ecc69",
        "outputId": "cf941fe7-06cd-407e-b09f-16c8096d6057"
      },
      "outputs": [
        {
          "name": "stdout",
          "output_type": "stream",
          "text": [
            "Requirement already satisfied: transformers in /usr/local/lib/python3.11/dist-packages (4.55.2)\n",
            "Requirement already satisfied: datasets in /usr/local/lib/python3.11/dist-packages (4.0.0)\n",
            "Requirement already satisfied: accelerate in /usr/local/lib/python3.11/dist-packages (1.10.0)\n",
            "Requirement already satisfied: pypdf in /usr/local/lib/python3.11/dist-packages (6.0.0)\n",
            "Requirement already satisfied: filelock in /usr/local/lib/python3.11/dist-packages (from transformers) (3.18.0)\n",
            "Requirement already satisfied: huggingface-hub<1.0,>=0.34.0 in /usr/local/lib/python3.11/dist-packages (from transformers) (0.34.4)\n",
            "Requirement already satisfied: numpy>=1.17 in /usr/local/lib/python3.11/dist-packages (from transformers) (2.0.2)\n",
            "Requirement already satisfied: packaging>=20.0 in /usr/local/lib/python3.11/dist-packages (from transformers) (25.0)\n",
            "Requirement already satisfied: pyyaml>=5.1 in /usr/local/lib/python3.11/dist-packages (from transformers) (6.0.2)\n",
            "Requirement already satisfied: regex!=2019.12.17 in /usr/local/lib/python3.11/dist-packages (from transformers) (2024.11.6)\n",
            "Requirement already satisfied: requests in /usr/local/lib/python3.11/dist-packages (from transformers) (2.32.3)\n",
            "Requirement already satisfied: tokenizers<0.22,>=0.21 in /usr/local/lib/python3.11/dist-packages (from transformers) (0.21.4)\n",
            "Requirement already satisfied: safetensors>=0.4.3 in /usr/local/lib/python3.11/dist-packages (from transformers) (0.6.2)\n",
            "Requirement already satisfied: tqdm>=4.27 in /usr/local/lib/python3.11/dist-packages (from transformers) (4.67.1)\n",
            "Requirement already satisfied: pyarrow>=15.0.0 in /usr/local/lib/python3.11/dist-packages (from datasets) (18.1.0)\n",
            "Requirement already satisfied: dill<0.3.9,>=0.3.0 in /usr/local/lib/python3.11/dist-packages (from datasets) (0.3.8)\n",
            "Requirement already satisfied: pandas in /usr/local/lib/python3.11/dist-packages (from datasets) (2.2.2)\n",
            "Requirement already satisfied: xxhash in /usr/local/lib/python3.11/dist-packages (from datasets) (3.5.0)\n",
            "Requirement already satisfied: multiprocess<0.70.17 in /usr/local/lib/python3.11/dist-packages (from datasets) (0.70.16)\n",
            "Requirement already satisfied: fsspec<=2025.3.0,>=2023.1.0 in /usr/local/lib/python3.11/dist-packages (from fsspec[http]<=2025.3.0,>=2023.1.0->datasets) (2025.3.0)\n",
            "Requirement already satisfied: psutil in /usr/local/lib/python3.11/dist-packages (from accelerate) (5.9.5)\n",
            "Requirement already satisfied: torch>=2.0.0 in /usr/local/lib/python3.11/dist-packages (from accelerate) (2.6.0+cu124)\n",
            "Requirement already satisfied: aiohttp!=4.0.0a0,!=4.0.0a1 in /usr/local/lib/python3.11/dist-packages (from fsspec[http]<=2025.3.0,>=2023.1.0->datasets) (3.12.15)\n",
            "Requirement already satisfied: typing-extensions>=3.7.4.3 in /usr/local/lib/python3.11/dist-packages (from huggingface-hub<1.0,>=0.34.0->transformers) (4.14.1)\n",
            "Requirement already satisfied: hf-xet<2.0.0,>=1.1.3 in /usr/local/lib/python3.11/dist-packages (from huggingface-hub<1.0,>=0.34.0->transformers) (1.1.7)\n",
            "Requirement already satisfied: charset-normalizer<4,>=2 in /usr/local/lib/python3.11/dist-packages (from requests->transformers) (3.4.3)\n",
            "Requirement already satisfied: idna<4,>=2.5 in /usr/local/lib/python3.11/dist-packages (from requests->transformers) (3.10)\n",
            "Requirement already satisfied: urllib3<3,>=1.21.1 in /usr/local/lib/python3.11/dist-packages (from requests->transformers) (2.5.0)\n",
            "Requirement already satisfied: certifi>=2017.4.17 in /usr/local/lib/python3.11/dist-packages (from requests->transformers) (2025.8.3)\n",
            "Requirement already satisfied: networkx in /usr/local/lib/python3.11/dist-packages (from torch>=2.0.0->accelerate) (3.5)\n",
            "Requirement already satisfied: jinja2 in /usr/local/lib/python3.11/dist-packages (from torch>=2.0.0->accelerate) (3.1.6)\n",
            "Requirement already satisfied: nvidia-cuda-nvrtc-cu12==12.4.127 in /usr/local/lib/python3.11/dist-packages (from torch>=2.0.0->accelerate) (12.4.127)\n",
            "Requirement already satisfied: nvidia-cuda-runtime-cu12==12.4.127 in /usr/local/lib/python3.11/dist-packages (from torch>=2.0.0->accelerate) (12.4.127)\n",
            "Requirement already satisfied: nvidia-cuda-cupti-cu12==12.4.127 in /usr/local/lib/python3.11/dist-packages (from torch>=2.0.0->accelerate) (12.4.127)\n",
            "Requirement already satisfied: nvidia-cudnn-cu12==9.1.0.70 in /usr/local/lib/python3.11/dist-packages (from torch>=2.0.0->accelerate) (9.1.0.70)\n",
            "Requirement already satisfied: nvidia-cublas-cu12==12.4.5.8 in /usr/local/lib/python3.11/dist-packages (from torch>=2.0.0->accelerate) (12.4.5.8)\n",
            "Requirement already satisfied: nvidia-cufft-cu12==11.2.1.3 in /usr/local/lib/python3.11/dist-packages (from torch>=2.0.0->accelerate) (11.2.1.3)\n",
            "Requirement already satisfied: nvidia-curand-cu12==10.3.5.147 in /usr/local/lib/python3.11/dist-packages (from torch>=2.0.0->accelerate) (10.3.5.147)\n",
            "Requirement already satisfied: nvidia-cusolver-cu12==11.6.1.9 in /usr/local/lib/python3.11/dist-packages (from torch>=2.0.0->accelerate) (11.6.1.9)\n",
            "Requirement already satisfied: nvidia-cusparse-cu12==12.3.1.170 in /usr/local/lib/python3.11/dist-packages (from torch>=2.0.0->accelerate) (12.3.1.170)\n",
            "Requirement already satisfied: nvidia-cusparselt-cu12==0.6.2 in /usr/local/lib/python3.11/dist-packages (from torch>=2.0.0->accelerate) (0.6.2)\n",
            "Requirement already satisfied: nvidia-nccl-cu12==2.21.5 in /usr/local/lib/python3.11/dist-packages (from torch>=2.0.0->accelerate) (2.21.5)\n",
            "Requirement already satisfied: nvidia-nvtx-cu12==12.4.127 in /usr/local/lib/python3.11/dist-packages (from torch>=2.0.0->accelerate) (12.4.127)\n",
            "Requirement already satisfied: nvidia-nvjitlink-cu12==12.4.127 in /usr/local/lib/python3.11/dist-packages (from torch>=2.0.0->accelerate) (12.4.127)\n",
            "Requirement already satisfied: triton==3.2.0 in /usr/local/lib/python3.11/dist-packages (from torch>=2.0.0->accelerate) (3.2.0)\n",
            "Requirement already satisfied: sympy==1.13.1 in /usr/local/lib/python3.11/dist-packages (from torch>=2.0.0->accelerate) (1.13.1)\n",
            "Requirement already satisfied: mpmath<1.4,>=1.1.0 in /usr/local/lib/python3.11/dist-packages (from sympy==1.13.1->torch>=2.0.0->accelerate) (1.3.0)\n",
            "Requirement already satisfied: python-dateutil>=2.8.2 in /usr/local/lib/python3.11/dist-packages (from pandas->datasets) (2.9.0.post0)\n",
            "Requirement already satisfied: pytz>=2020.1 in /usr/local/lib/python3.11/dist-packages (from pandas->datasets) (2025.2)\n",
            "Requirement already satisfied: tzdata>=2022.7 in /usr/local/lib/python3.11/dist-packages (from pandas->datasets) (2025.2)\n",
            "Requirement already satisfied: aiohappyeyeballs>=2.5.0 in /usr/local/lib/python3.11/dist-packages (from aiohttp!=4.0.0a0,!=4.0.0a1->fsspec[http]<=2025.3.0,>=2023.1.0->datasets) (2.6.1)\n",
            "Requirement already satisfied: aiosignal>=1.4.0 in /usr/local/lib/python3.11/dist-packages (from aiohttp!=4.0.0a0,!=4.0.0a1->fsspec[http]<=2025.3.0,>=2023.1.0->datasets) (1.4.0)\n",
            "Requirement already satisfied: attrs>=17.3.0 in /usr/local/lib/python3.11/dist-packages (from aiohttp!=4.0.0a0,!=4.0.0a1->fsspec[http]<=2025.3.0,>=2023.1.0->datasets) (25.3.0)\n",
            "Requirement already satisfied: frozenlist>=1.1.1 in /usr/local/lib/python3.11/dist-packages (from aiohttp!=4.0.0a0,!=4.0.0a1->fsspec[http]<=2025.3.0,>=2023.1.0->datasets) (1.7.0)\n",
            "Requirement already satisfied: multidict<7.0,>=4.5 in /usr/local/lib/python3.11/dist-packages (from aiohttp!=4.0.0a0,!=4.0.0a1->fsspec[http]<=2025.3.0,>=2023.1.0->datasets) (6.6.4)\n",
            "Requirement already satisfied: propcache>=0.2.0 in /usr/local/lib/python3.11/dist-packages (from aiohttp!=4.0.0a0,!=4.0.0a1->fsspec[http]<=2025.3.0,>=2023.1.0->datasets) (0.3.2)\n",
            "Requirement already satisfied: yarl<2.0,>=1.17.0 in /usr/local/lib/python3.11/dist-packages (from aiohttp!=4.0.0a0,!=4.0.0a1->fsspec[http]<=2025.3.0,>=2023.1.0->datasets) (1.20.1)\n",
            "Requirement already satisfied: six>=1.5 in /usr/local/lib/python3.11/dist-packages (from python-dateutil>=2.8.2->pandas->datasets) (1.17.0)\n",
            "Requirement already satisfied: MarkupSafe>=2.0 in /usr/local/lib/python3.11/dist-packages (from jinja2->torch>=2.0.0->accelerate) (3.0.2)\n"
          ]
        }
      ],
      "source": [
        "\n",
        "!pip install -U transformers datasets accelerate pypdf\n"
      ]
    },
    {
      "cell_type": "code",
      "execution_count": 9,
      "id": "8e540d50",
      "metadata": {
        "colab": {
          "base_uri": "https://localhost:8080/"
        },
        "id": "8e540d50",
        "outputId": "d36d7301-32f7-4f76-a5f8-befe3f0f54d3"
      },
      "outputs": [
        {
          "name": "stdout",
          "output_type": "stream",
          "text": [
            "Python: 3.11.13 (main, Jun  4 2025, 08:57:29) [GCC 11.4.0]\n",
            "PyTorch: 2.6.0+cu124\n",
            "CUDA is available: True\n",
            "GPU: Tesla T4\n"
          ]
        }
      ],
      "source": [
        "\n",
        "import torch, platform, sys\n",
        "print(\"Python:\", sys.version)\n",
        "print(\"PyTorch:\", torch.__version__)\n",
        "print(\"CUDA is available:\", torch.cuda.is_available())\n",
        "if torch.cuda.is_available():\n",
        "    print(\"GPU:\", torch.cuda.get_device_name(0))\n",
        "else:\n",
        "    print(\"⚠️ No GPU detected. In Colab, go to Runtime → Change runtime type → GPU.\")\n"
      ]
    },
    {
      "cell_type": "markdown",
      "id": "ae3603d2",
      "metadata": {
        "id": "ae3603d2"
      },
      "source": [
        "## 1) Upload your PDF"
      ]
    },
    {
      "cell_type": "code",
      "execution_count": 3,
      "id": "61c57b7c",
      "metadata": {
        "colab": {
          "base_uri": "https://localhost:8080/"
        },
        "id": "61c57b7c",
        "outputId": "85b674fa-d992-4ed2-986e-6efa181b707a"
      },
      "outputs": [
        {
          "name": "stdout",
          "output_type": "stream",
          "text": [
            "Using file: /content/FundOUI.pdf\n"
          ]
        }
      ],
      "source": [
        "# from google.colab import files\n",
        "# uploaded = files.upload()  # Choose your Siebel PDF here\n",
        "pdf_path = \"/content/FundOUI.pdf\"\n",
        "print(\"Using file:\", pdf_path)"
      ]
    },
    {
      "cell_type": "markdown",
      "id": "7e179f0f",
      "metadata": {
        "id": "7e179f0f"
      },
      "source": [
        "## 2) Extract & clean text"
      ]
    },
    {
      "cell_type": "code",
      "execution_count": 4,
      "id": "9f89ea19",
      "metadata": {
        "colab": {
          "base_uri": "https://localhost:8080/"
        },
        "id": "9f89ea19",
        "outputId": "cac8ad74-d2fc-49fb-d431-845495d88874"
      },
      "outputs": [
        {
          "name": "stdout",
          "output_type": "stream",
          "text": [
            "PDF pages detected: 170\n",
            "✅ Extracted text length: 341373\n",
            "Preview:\n",
            " Siebel CRM\n",
            "Fundamentals Guide \n",
            "Siebel Innovation Pack 2016, Rev. A \n",
            "E52425-01\n",
            "June 2016\n",
            "\n",
            "Siebel CRM Fundamentals Guide, Siebel Innovation Pack 2016, Rev. A \n",
            "E52425-01\n",
            "Copyright © 2005, 2016 Oracle and/or its affiliates. All rights reserved.\n",
            "This software and related documentation are provided under a license agreement containing restrictions on \n",
            "use and disclosure and are protected by intellectual property laws. Except as expressly permitted in your \n",
            "license agreement or allowed by law, you may not use, copy, reproduce, translate, broadcast, modify, license, \n",
            "transmit, distribute, exhibit, perform, publish, or display any part, in any form, or by any means. Reverse \n",
            "engineering, disassembly, or decompilation of this software, unless required by law for interoperability, is \n",
            "prohibited.\n",
            "The information contained herein is subject to change without notice and is not warranted to be error-free. If \n",
            "you find any errors, please report them to us in writing.\n",
            "If this is software or related documentation that is delivered to the U.S. Government or anyone licensing it \n",
            "on behalf of the U.S. Government, then the following notice is applicable:\n",
            "U.S. GOVERNMENT END USERS: Oracle programs, incl\n"
          ]
        }
      ],
      "source": [
        "\n",
        "from pypdf import PdfReader\n",
        "import re\n",
        "\n",
        "reader = PdfReader(pdf_path)\n",
        "pages = len(reader.pages)\n",
        "print(f\"PDF pages detected: {pages}\")\n",
        "\n",
        "all_text = []\n",
        "for i, page in enumerate(reader.pages):\n",
        "    text = page.extract_text() or \"\"\n",
        "    # Basic cleanup: remove hyphenated line breaks & excessive spaces\n",
        "    text = text.replace(\"\\u00ad\", \"\")              # soft hyphen\n",
        "    text = re.sub(r\"-\\n\\s*\", \"\", text)             # hyphen + newline merge\n",
        "    text = re.sub(r\"\\n{2,}\", \"\\n\\n\", text)         # collapse big gaps\n",
        "    text = re.sub(r\"[ \\t]{2,}\", \" \", text)         # collapse spaces\n",
        "    all_text.append(text)\n",
        "\n",
        "full_text = \"\\n\\n\".join(all_text).strip()\n",
        "\n",
        "with open(\"siebel_guide.txt\", \"w\", encoding=\"utf-8\") as f:\n",
        "    f.write(full_text)\n",
        "\n",
        "print(\"✅ Extracted text length:\", len(full_text))\n",
        "print(\"Preview:\\n\", full_text[:1200])\n"
      ]
    },
    {
      "cell_type": "markdown",
      "id": "5b48b403",
      "metadata": {
        "id": "5b48b403"
      },
      "source": [
        "## 3) Build dataset (tokenize & group for language modeling)"
      ]
    },
    {
      "cell_type": "code",
      "execution_count": 5,
      "id": "282e199a",
      "metadata": {
        "colab": {
          "base_uri": "https://localhost:8080/",
          "height": 356,
          "referenced_widgets": [
            "1230bce2d28d4367860a68ebf84d0ed3",
            "ef531c23dee7421ea9d967d01db2c68c",
            "9d4a31a1ca114945ba02becd1fc811d9",
            "5702bd6d2c8b4cb1b7bf00ee47717263",
            "156865b19c5f43ac9c317070985ad28e",
            "c7a34ab6f8aa4d5ba3ff2fd96f30b38c",
            "3b934ac659fa4d1b9f18e1ccd605eda9",
            "9e1d40a07ee64dcf896693b66cae906f",
            "8ad16e9a7d424fe98679078c1d435d99",
            "6635bdfbbe794385b3a30f6930cfcb35",
            "e70fff5bd8194b3c93fce60121580308",
            "87a94fa09637471e8aeaf12ca058e71d",
            "42fdfc92a5d648af9946ee0b0ddd95f6",
            "f63aaeafeb844ea2817c8e057b481417",
            "d239ab180a8a46a9a72f953e041134f0",
            "554825f55a204198a4ea7f09dc410c1f",
            "849dd1d0875546bb9f2c72ea71ee0175",
            "77fb3ad963e44c75ab56bea79cbcfb42",
            "8f963941f15442a1990bb9924df39454",
            "243d995b22e647a999a3c1df3e8f8f2e",
            "be13339fb27849f0bf3403b06b891a23",
            "81b92116e43a43b8a3670d6818c0d1fc"
          ]
        },
        "id": "282e199a",
        "outputId": "3fe5c9cb-79cb-40b3-a265-74699685f4b9"
      },
      "outputs": [
        {
          "name": "stderr",
          "output_type": "stream",
          "text": [
            "/usr/local/lib/python3.11/dist-packages/huggingface_hub/utils/_auth.py:94: UserWarning: \n",
            "The secret `HF_TOKEN` does not exist in your Colab secrets.\n",
            "To authenticate with the Hugging Face Hub, create a token in your settings tab (https://huggingface.co/settings/tokens), set it as secret in your Google Colab and restart your session.\n",
            "You will be able to reuse this secret in all of your notebooks.\n",
            "Please note that authentication is recommended but still optional to access public models or datasets.\n",
            "  warnings.warn(\n"
          ]
        },
        {
          "data": {
            "application/vnd.jupyter.widget-view+json": {
              "model_id": "1230bce2d28d4367860a68ebf84d0ed3",
              "version_major": 2,
              "version_minor": 0
            },
            "text/plain": [
              "Map:   0%|          | 0/1 [00:00<?, ? examples/s]"
            ]
          },
          "metadata": {},
          "output_type": "display_data"
        },
        {
          "name": "stderr",
          "output_type": "stream",
          "text": [
            "Token indices sequence length is longer than the specified maximum sequence length for this model (77053 > 1024). Running this sequence through the model will result in indexing errors\n"
          ]
        },
        {
          "data": {
            "application/vnd.jupyter.widget-view+json": {
              "model_id": "87a94fa09637471e8aeaf12ca058e71d",
              "version_major": 2,
              "version_minor": 0
            },
            "text/plain": [
              "Map:   0%|          | 0/1 [00:00<?, ? examples/s]"
            ]
          },
          "metadata": {},
          "output_type": "display_data"
        },
        {
          "name": "stdout",
          "output_type": "stream",
          "text": [
            "Dataset({\n",
            "    features: ['input_ids', 'attention_mask', 'labels'],\n",
            "    num_rows: 270\n",
            "}) Dataset({\n",
            "    features: ['input_ids', 'attention_mask', 'labels'],\n",
            "    num_rows: 30\n",
            "})\n"
          ]
        }
      ],
      "source": [
        "\n",
        "from datasets import Dataset\n",
        "from transformers import AutoTokenizer\n",
        "\n",
        "model_name = \"gpt2\"\n",
        "tokenizer = AutoTokenizer.from_pretrained(model_name)\n",
        "tokenizer.pad_token = tokenizer.eos_token\n",
        "\n",
        "# Create a single-sample dataset; we'll tokenize and group into chunks.\n",
        "raw_ds = Dataset.from_dict({\"text\": [full_text]})\n",
        "\n",
        "def tokenize_function(examples):\n",
        "    return tokenizer(examples[\"text\"])\n",
        "\n",
        "tokenized = raw_ds.map(tokenize_function, batched=True, remove_columns=[\"text\"])\n",
        "\n",
        "# Group into contiguous blocks of block_size tokens for causal LM\n",
        "block_size = 256\n",
        "\n",
        "def group_texts(examples):\n",
        "    # Concatenate all texts.\n",
        "    concatenated = {k: sum(examples[k], []) for k in examples.keys()}\n",
        "    total_length = len(concatenated[\"input_ids\"])\n",
        "    # Drop the small remainder\n",
        "    total_length = (total_length // block_size) * block_size\n",
        "    # Split by chunks of max_len\n",
        "    result = {\n",
        "        k: [t[i : i + block_size] for i in range(0, total_length, block_size)]\n",
        "        for k, t in concatenated.items()\n",
        "    }\n",
        "    result[\"labels\"] = result[\"input_ids\"].copy()\n",
        "    return result\n",
        "\n",
        "lm_ds = tokenized.map(group_texts, batched=True)\n",
        "split = lm_ds.train_test_split(test_size=0.1, seed=42)\n",
        "train_ds, test_ds = split[\"train\"], split[\"test\"]\n",
        "print(train_ds, test_ds)\n"
      ]
    },
    {
      "cell_type": "markdown",
      "id": "0e059344",
      "metadata": {
        "id": "0e059344"
      },
      "source": [
        "## 4) Baseline: Generate **Before Fine-tuning**"
      ]
    },
    {
      "cell_type": "code",
      "execution_count": 6,
      "id": "42b834ae",
      "metadata": {
        "colab": {
          "base_uri": "https://localhost:8080/"
        },
        "id": "42b834ae",
        "outputId": "cb87d2dc-bbd0-41fa-f369-fcbd4cdf8db6"
      },
      "outputs": [
        {
          "name": "stderr",
          "output_type": "stream",
          "text": [
            "Device set to use cuda:0\n"
          ]
        },
        {
          "name": "stdout",
          "output_type": "stream",
          "text": [
            "================================================================================\n",
            "Prompt: What is Siebel CRM?\n",
            "What is Siebel CRM?\n",
            "\n",
            "Siebel CRM is a framework to help you build a web website in the WordPress framework. This framework works with a variety of WordPress themes and it is compatible with all of them.\n",
            "\n",
            "How can I create a template that can be used in a blog or blog post?\n",
            "\n",
            "Once you have a template in place, you can use it in any blog or blog post. The template can also be used in any blog or blog post in any order.\n",
            "\n",
            "What is the difference between a WordPress theme and a theme from a developer?\n",
            "\n",
            "A WordPress theme is a\n",
            "================================================================================\n",
            "Prompt: Explain Siebel Workflow Policies in simple terms.\n",
            "Explain Siebel Workflow Policies in simple terms.\n",
            "\n",
            "The standard workflow for creating user interfaces is the following:\n",
            "\n",
            "Create a User Interface from the data and data-points that you have created in the previous step.\n",
            "\n",
            "Create a User Interface from the data and data-points that you have created in the previous step. Create an interface with the same name as the data you created in the previous step.\n",
            "\n",
            "Create a User Interface by using the same name as the data you created in the previous step.\n",
            "\n",
            "The User Interface is created using the following steps:\n",
            "\n",
            "Create a User Interface from the data and data-points\n",
            "================================================================================\n",
            "Prompt: How does the Siebel Data Model organize business components?\n",
            "How does the Siebel Data Model organize business components?\n",
            "\n",
            "The Siebel Data Model is a tool that allows you to view your business assets using the Siebel Data Model. This project contains many useful data models for business software, and it's ready to use.\n",
            "\n",
            "What is the Siebel Data Model?\n",
            "\n",
            "The Siebel Data Model is a tool for analyzing data from your business. The Siebel Data Model provides a way to view your business data.\n",
            "\n",
            "What is the Siebel Data Model for Profit?\n",
            "\n",
            "The Siebel Data Model identifies your business as a profit enterprise using the Siebel Data Model. This approach helps\n",
            "================================================================================\n",
            "Prompt: what is importance of outer join flag?\n",
            "what is importance of outer join flag?\n",
            "\n",
            "I'm not going to speculate on this, because, even if it is a technical question, it is very important. But it's important. The top of the flag tells you the flag. This is what it's like to have a flag. This is what the flag represents. You don't really know where the flag is going. It's a very special thing to have a flag. There's a reason why people get to choose the flag of their country. It's a very special thing to have a flag. It's something you don't really know about.\n",
            "\n",
            "The\n"
          ]
        }
      ],
      "source": [
        "\n",
        "from transformers import AutoModelForCausalLM, pipeline\n",
        "\n",
        "base_model = AutoModelForCausalLM.from_pretrained(model_name)\n",
        "gen_pipe_before = pipeline(\"text-generation\", model=base_model, tokenizer=tokenizer, device_map=\"auto\")\n",
        "\n",
        "# You can edit these prompts as needed.\n",
        "prompts = [\n",
        "    \"What is Siebel CRM?\",\n",
        "    \"Explain Siebel Workflow Policies in simple terms.\",\n",
        "    \"How does the Siebel Data Model organize business components?\",\n",
        "    \"what is importance of outer join flag?\"\n",
        "]\n",
        "\n",
        "def generate_list(pipe, prompts, max_new_tokens=120):\n",
        "    outs = []\n",
        "    for p in prompts:\n",
        "        g = pipe(p, max_new_tokens=max_new_tokens, do_sample=True, temperature=0.7)[0][\"generated_text\"]\n",
        "        outs.append(g)\n",
        "    return outs\n",
        "\n",
        "before_outputs = generate_list(gen_pipe_before, prompts)\n",
        "for p, o in zip(prompts, before_outputs):\n",
        "    print(\"=\"*80)\n",
        "    print(\"Prompt:\", p)\n",
        "    print(o)\n"
      ]
    },
    {
      "cell_type": "markdown",
      "id": "37b84f3a",
      "metadata": {
        "id": "37b84f3a"
      },
      "source": [
        "## 5) Fine-tune GPT-2 on your PDF"
      ]
    },
    {
      "cell_type": "code",
      "execution_count": 10,
      "id": "04JrNH1nRteu",
      "metadata": {
        "colab": {
          "base_uri": "https://localhost:8080/",
          "height": 645
        },
        "id": "04JrNH1nRteu",
        "outputId": "20960bfa-9317-4b0b-e419-d891d7c8b6c5"
      },
      "outputs": [
        {
          "name": "stdout",
          "output_type": "stream",
          "text": [
            "Requirement already satisfied: transformers in /usr/local/lib/python3.11/dist-packages (4.55.1)\n",
            "Collecting transformers\n",
            "  Downloading transformers-4.55.2-py3-none-any.whl.metadata (41 kB)\n",
            "\u001b[2K     \u001b[90m━━━━━━━━━━━━━━━━━━━━━━━━━━━━━━━━━━━━━━━━\u001b[0m \u001b[32m42.0/42.0 kB\u001b[0m \u001b[31m2.7 MB/s\u001b[0m eta \u001b[36m0:00:00\u001b[0m\n",
            "\u001b[?25hRequirement already satisfied: filelock in /usr/local/lib/python3.11/dist-packages (from transformers) (3.18.0)\n",
            "Requirement already satisfied: huggingface-hub<1.0,>=0.34.0 in /usr/local/lib/python3.11/dist-packages (from transformers) (0.34.4)\n",
            "Requirement already satisfied: numpy>=1.17 in /usr/local/lib/python3.11/dist-packages (from transformers) (2.0.2)\n",
            "Requirement already satisfied: packaging>=20.0 in /usr/local/lib/python3.11/dist-packages (from transformers) (25.0)\n",
            "Requirement already satisfied: pyyaml>=5.1 in /usr/local/lib/python3.11/dist-packages (from transformers) (6.0.2)\n",
            "Requirement already satisfied: regex!=2019.12.17 in /usr/local/lib/python3.11/dist-packages (from transformers) (2024.11.6)\n",
            "Requirement already satisfied: requests in /usr/local/lib/python3.11/dist-packages (from transformers) (2.32.3)\n",
            "Requirement already satisfied: tokenizers<0.22,>=0.21 in /usr/local/lib/python3.11/dist-packages (from transformers) (0.21.4)\n",
            "Requirement already satisfied: safetensors>=0.4.3 in /usr/local/lib/python3.11/dist-packages (from transformers) (0.6.2)\n",
            "Requirement already satisfied: tqdm>=4.27 in /usr/local/lib/python3.11/dist-packages (from transformers) (4.67.1)\n",
            "Requirement already satisfied: fsspec>=2023.5.0 in /usr/local/lib/python3.11/dist-packages (from huggingface-hub<1.0,>=0.34.0->transformers) (2025.3.0)\n",
            "Requirement already satisfied: typing-extensions>=3.7.4.3 in /usr/local/lib/python3.11/dist-packages (from huggingface-hub<1.0,>=0.34.0->transformers) (4.14.1)\n",
            "Requirement already satisfied: hf-xet<2.0.0,>=1.1.3 in /usr/local/lib/python3.11/dist-packages (from huggingface-hub<1.0,>=0.34.0->transformers) (1.1.7)\n",
            "Requirement already satisfied: charset-normalizer<4,>=2 in /usr/local/lib/python3.11/dist-packages (from requests->transformers) (3.4.3)\n",
            "Requirement already satisfied: idna<4,>=2.5 in /usr/local/lib/python3.11/dist-packages (from requests->transformers) (3.10)\n",
            "Requirement already satisfied: urllib3<3,>=1.21.1 in /usr/local/lib/python3.11/dist-packages (from requests->transformers) (2.5.0)\n",
            "Requirement already satisfied: certifi>=2017.4.17 in /usr/local/lib/python3.11/dist-packages (from requests->transformers) (2025.8.3)\n",
            "Downloading transformers-4.55.2-py3-none-any.whl (11.3 MB)\n",
            "\u001b[2K   \u001b[90m━━━━━━━━━━━━━━━━━━━━━━━━━━━━━━━━━━━━━━━━\u001b[0m \u001b[32m11.3/11.3 MB\u001b[0m \u001b[31m50.6 MB/s\u001b[0m eta \u001b[36m0:00:00\u001b[0m\n",
            "\u001b[?25hInstalling collected packages: transformers\n",
            "  Attempting uninstall: transformers\n",
            "    Found existing installation: transformers 4.55.1\n",
            "    Uninstalling transformers-4.55.1:\n",
            "      Successfully uninstalled transformers-4.55.1\n",
            "Successfully installed transformers-4.55.2\n"
          ]
        },
        {
          "data": {
            "application/vnd.colab-display-data+json": {
              "id": "afdabadd34154b4cb8ced7b88a00389f",
              "pip_warning": {
                "packages": [
                  "transformers"
                ]
              }
            }
          },
          "metadata": {},
          "output_type": "display_data"
        }
      ],
      "source": [
        "#!pip install -U transformers"
      ]
    },
    {
      "cell_type": "code",
      "execution_count": 12,
      "id": "0779cff3",
      "metadata": {
        "colab": {
          "base_uri": "https://localhost:8080/",
          "height": 518
        },
        "id": "0779cff3",
        "outputId": "657aaada-976b-48ce-ae22-11f29bbcb771"
      },
      "outputs": [
        {
          "data": {
            "application/javascript": "\n        window._wandbApiKey = new Promise((resolve, reject) => {\n            function loadScript(url) {\n            return new Promise(function(resolve, reject) {\n                let newScript = document.createElement(\"script\");\n                newScript.onerror = reject;\n                newScript.onload = resolve;\n                document.body.appendChild(newScript);\n                newScript.src = url;\n            });\n            }\n            loadScript(\"https://cdn.jsdelivr.net/npm/postmate/build/postmate.min.js\").then(() => {\n            const iframe = document.createElement('iframe')\n            iframe.style.cssText = \"width:0;height:0;border:none\"\n            document.body.appendChild(iframe)\n            const handshake = new Postmate({\n                container: iframe,\n                url: 'https://wandb.ai/authorize'\n            });\n            const timeout = setTimeout(() => reject(\"Couldn't auto authenticate\"), 5000)\n            handshake.then(function(child) {\n                child.on('authorize', data => {\n                    clearTimeout(timeout)\n                    resolve(data)\n                });\n            });\n            })\n        });\n    ",
            "text/plain": [
              "<IPython.core.display.Javascript object>"
            ]
          },
          "metadata": {},
          "output_type": "display_data"
        },
        {
          "name": "stderr",
          "output_type": "stream",
          "text": [
            "\u001b[34m\u001b[1mwandb\u001b[0m: Logging into wandb.ai. (Learn how to deploy a W&B server locally: https://wandb.me/wandb-server)\n",
            "\u001b[34m\u001b[1mwandb\u001b[0m: You can find your API key in your browser here: https://wandb.ai/authorize?ref=models\n",
            "wandb: Paste an API key from your profile and hit enter:"
          ]
        },
        {
          "name": "stdout",
          "output_type": "stream",
          "text": [
            " ··········\n"
          ]
        },
        {
          "name": "stderr",
          "output_type": "stream",
          "text": [
            "\u001b[34m\u001b[1mwandb\u001b[0m: \u001b[33mWARNING\u001b[0m If you're specifying your api key in code, ensure this code is not shared publicly.\n",
            "\u001b[34m\u001b[1mwandb\u001b[0m: \u001b[33mWARNING\u001b[0m Consider setting the WANDB_API_KEY environment variable, or running `wandb login` from the command line.\n",
            "\u001b[34m\u001b[1mwandb\u001b[0m: No netrc file found, creating one.\n",
            "\u001b[34m\u001b[1mwandb\u001b[0m: Appending key for api.wandb.ai to your netrc file: /root/.netrc\n",
            "\u001b[34m\u001b[1mwandb\u001b[0m: Currently logged in as: \u001b[33mgogogoyes785\u001b[0m (\u001b[33mgogogoyes785-tata-consultancy-services\u001b[0m) to \u001b[32mhttps://api.wandb.ai\u001b[0m. Use \u001b[1m`wandb login --relogin`\u001b[0m to force relogin\n"
          ]
        },
        {
          "data": {
            "text/html": [
              "Tracking run with wandb version 0.21.1"
            ],
            "text/plain": [
              "<IPython.core.display.HTML object>"
            ]
          },
          "metadata": {},
          "output_type": "display_data"
        },
        {
          "data": {
            "text/html": [
              "Run data is saved locally in <code>/content/wandb/run-20250816_143526-pv9wkxlf</code>"
            ],
            "text/plain": [
              "<IPython.core.display.HTML object>"
            ]
          },
          "metadata": {},
          "output_type": "display_data"
        },
        {
          "data": {
            "text/html": [
              "Syncing run <strong><a href='https://wandb.ai/gogogoyes785-tata-consultancy-services/huggingface/runs/pv9wkxlf' target=\"_blank\">toasty-frog-3</a></strong> to <a href='https://wandb.ai/gogogoyes785-tata-consultancy-services/huggingface' target=\"_blank\">Weights & Biases</a> (<a href='https://wandb.me/developer-guide' target=\"_blank\">docs</a>)<br>"
            ],
            "text/plain": [
              "<IPython.core.display.HTML object>"
            ]
          },
          "metadata": {},
          "output_type": "display_data"
        },
        {
          "data": {
            "text/html": [
              " View project at <a href='https://wandb.ai/gogogoyes785-tata-consultancy-services/huggingface' target=\"_blank\">https://wandb.ai/gogogoyes785-tata-consultancy-services/huggingface</a>"
            ],
            "text/plain": [
              "<IPython.core.display.HTML object>"
            ]
          },
          "metadata": {},
          "output_type": "display_data"
        },
        {
          "data": {
            "text/html": [
              " View run at <a href='https://wandb.ai/gogogoyes785-tata-consultancy-services/huggingface/runs/pv9wkxlf' target=\"_blank\">https://wandb.ai/gogogoyes785-tata-consultancy-services/huggingface/runs/pv9wkxlf</a>"
            ],
            "text/plain": [
              "<IPython.core.display.HTML object>"
            ]
          },
          "metadata": {},
          "output_type": "display_data"
        },
        {
          "name": "stderr",
          "output_type": "stream",
          "text": [
            "`loss_type=None` was set in the config but it is unrecognised.Using the default loss: `ForCausalLMLoss`.\n"
          ]
        },
        {
          "data": {
            "text/html": [
              "\n",
              "    <div>\n",
              "      \n",
              "      <progress value='102' max='102' style='width:300px; height:20px; vertical-align: middle;'></progress>\n",
              "      [102/102 00:47, Epoch 3/3]\n",
              "    </div>\n",
              "    <table border=\"1\" class=\"dataframe\">\n",
              "  <thead>\n",
              " <tr style=\"text-align: left;\">\n",
              "      <th>Step</th>\n",
              "      <th>Training Loss</th>\n",
              "    </tr>\n",
              "  </thead>\n",
              "  <tbody>\n",
              "    <tr>\n",
              "      <td>50</td>\n",
              "      <td>2.758600</td>\n",
              "    </tr>\n",
              "    <tr>\n",
              "      <td>100</td>\n",
              "      <td>2.293300</td>\n",
              "    </tr>\n",
              "  </tbody>\n",
              "</table><p>"
            ],
            "text/plain": [
              "<IPython.core.display.HTML object>"
            ]
          },
          "metadata": {},
          "output_type": "display_data"
        },
        {
          "data": {
            "text/html": [
              "\n",
              "    <div>\n",
              "      \n",
              "      <progress value='4' max='4' style='width:300px; height:20px; vertical-align: middle;'></progress>\n",
              "      [4/4 00:00]\n",
              "    </div>\n",
              "    "
            ],
            "text/plain": [
              "<IPython.core.display.HTML object>"
            ]
          },
          "metadata": {},
          "output_type": "display_data"
        },
        {
          "data": {
            "text/plain": [
              "{'eval_loss': 2.1167335510253906,\n",
              " 'eval_runtime': 0.3593,\n",
              " 'eval_samples_per_second': 83.492,\n",
              " 'eval_steps_per_second': 11.132,\n",
              " 'epoch': 3.0}"
            ]
          },
          "execution_count": 12,
          "metadata": {},
          "output_type": "execute_result"
        }
      ],
      "source": [
        "\n",
        "from transformers import DataCollatorForLanguageModeling, TrainingArguments, Trainer\n",
        "\n",
        "data_collator = DataCollatorForLanguageModeling(tokenizer=tokenizer, mlm=False)\n",
        "training_args = TrainingArguments(\n",
        "    output_dir=\"./results\",\n",
        "    overwrite_output_dir=True,\n",
        "    num_train_epochs=3,\n",
        "    per_device_train_batch_size=2,\n",
        "    gradient_accumulation_steps=4,\n",
        "    learning_rate=5e-5,\n",
        "    warmup_ratio=0.1,\n",
        "    weight_decay=0.01,\n",
        "    logging_dir=\"./logs\",\n",
        "    logging_steps=50,\n",
        "    save_total_limit=2,\n",
        "    fp16=True\n",
        ")\n",
        "\n",
        "trainer = Trainer(\n",
        "    model=base_model,\n",
        "    args=training_args,\n",
        "    train_dataset=train_ds,\n",
        "    eval_dataset=test_ds,\n",
        "    data_collator=data_collator,\n",
        ")\n",
        "\n",
        "trainer.train()\n",
        "eval_metrics = trainer.evaluate()\n",
        "eval_metrics\n"
      ]
    },
    {
      "cell_type": "markdown",
      "id": "ad344b00",
      "metadata": {
        "id": "ad344b00"
      },
      "source": [
        "## 6) Compare **After Fine-tuning**"
      ]
    },
    {
      "cell_type": "code",
      "execution_count": 13,
      "id": "145ede34",
      "metadata": {
        "colab": {
          "base_uri": "https://localhost:8080/",
          "height": 655
        },
        "id": "145ede34",
        "outputId": "a89a83dd-7773-4724-f6d8-823d9921c6c1"
      },
      "outputs": [
        {
          "name": "stderr",
          "output_type": "stream",
          "text": [
            "Device set to use cuda:0\n"
          ]
        },
        {
          "data": {
            "application/vnd.google.colaboratory.intrinsic+json": {
              "summary": "{\n  \"name\": \"df\",\n  \"rows\": 4,\n  \"fields\": [\n    {\n      \"column\": \"Prompt\",\n      \"properties\": {\n        \"dtype\": \"string\",\n        \"num_unique_values\": 4,\n        \"samples\": [\n          \"Explain Siebel Workflow Policies in simple terms.\",\n          \"what is importance of outer join flag?\",\n          \"What is Siebel CRM?\"\n        ],\n        \"semantic_type\": \"\",\n        \"description\": \"\"\n      }\n    },\n    {\n      \"column\": \"Before\",\n      \"properties\": {\n        \"dtype\": \"string\",\n        \"num_unique_values\": 4,\n        \"samples\": [\n          \"Explain Siebel Workflow Policies in simple terms.\\n\\nThe standard workflow for creating user interfaces is the following:\\n\\nCreate a User Interface from the data and data-points that you have created in the previous step.\\n\\nCreate a User Interface from the data and data-points that you have created in the previous step. Create an interface with the same name as the data you created in the previous step.\\n\\nCreate a User Interface by using the same name as the data you created in the previous step.\\n\\nThe User Interface is created using the following steps:\\n\\nCreate a User Interface from the data and data-points\",\n          \"what is importance of outer join flag?\\n\\nI'm not going to speculate on this, because, even if it is a technical question, it is very important. But it's important. The top of the flag tells you the flag. This is what it's like to have a flag. This is what the flag represents. You don't really know where the flag is going. It's a very special thing to have a flag. There's a reason why people get to choose the flag of their country. It's a very special thing to have a flag. It's something you don't really know about.\\n\\nThe\",\n          \"What is Siebel CRM?\\n\\nSiebel CRM is a framework to help you build a web website in the WordPress framework. This framework works with a variety of WordPress themes and it is compatible with all of them.\\n\\nHow can I create a template that can be used in a blog or blog post?\\n\\nOnce you have a template in place, you can use it in any blog or blog post. The template can also be used in any blog or blog post in any order.\\n\\nWhat is the difference between a WordPress theme and a theme from a developer?\\n\\nA WordPress theme is a\"\n        ],\n        \"semantic_type\": \"\",\n        \"description\": \"\"\n      }\n    },\n    {\n      \"column\": \"After\",\n      \"properties\": {\n        \"dtype\": \"string\",\n        \"num_unique_values\": 4,\n        \"samples\": [\n          \"Explain Siebel Workflow Policies in simple terms.\\n2. Read the Siebel Business Plan \\nAbout Siebel Enterprise\\nThis Siebel Enterprise helps you access and manage your business data. It includes a new feature called \\nEmail Client.\\nAbout the Fundamentals of Business \\nAbout Email\\nAbout the Fundamentals of Business \\nEmail is a new form of communication. It provides all the information you need about a business \\napplication. It provides you with all of the functionality you need to set up and execute a business \\napplication. This new form of communication is called a Business \\napplication.\\n3\",\n          \"what is importance of outer join flag?\\nThe value in the outer join flag determines how much information is sent to the message field. It is the amount of information that is sent to the message field.\\nTo set up a message field \\n1. Click the \\nfield from the drop-down list. \\nNote: \\nYou can set up a message field even if you are not using a \\nmessage keyboard shortcut.\\n2. Click Send Message.\\nField Description Description \\nSend message\\nSend message \\nYou can send messages with the Send message \\nbutton, provided you use a \\n\",\n          \"What is Siebel CRM?\\n\\nIn a nutshell, Siebel CRM is the CRM product for software development. This product provides a set of tools to help you build, maintain, and improve your CRM implementation. It includes:\\n\\nA User Interface Toolkit\\nIdentifying Tools to Help You Use CRM\\nUsing Common Tools to Complete and Update CRM\\nIdentifying Tools to Add to Your CRM Applications\\nUsing Common Tools to Create and Use CRM\\nFinding Tools for Common User Interface Elements\\nFinding Common User Interface Elements to Use in Your CRM\\nUsing Common Tools to Make Common User Interface\"\n        ],\n        \"semantic_type\": \"\",\n        \"description\": \"\"\n      }\n    }\n  ]\n}",
              "type": "dataframe",
              "variable_name": "df"
            },
            "text/html": [
              "\n",
              "  <div id=\"df-95cc2e02-fa58-4265-ad49-9a8d08c83cfc\" class=\"colab-df-container\">\n",
              "    <div>\n",
              "<style scoped>\n",
              "    .dataframe tbody tr th:only-of-type {\n",
              "        vertical-align: middle;\n",
              "    }\n",
              "\n",
              "    .dataframe tbody tr th {\n",
              "        vertical-align: top;\n",
              "    }\n",
              "\n",
              "    .dataframe thead th {\n",
              "        text-align: right;\n",
              "    }\n",
              "</style>\n",
              "<table border=\"1\" class=\"dataframe\">\n",
              "  <thead>\n",
              "    <tr style=\"text-align: right;\">\n",
              "      <th></th>\n",
              "      <th>Prompt</th>\n",
              "      <th>Before</th>\n",
              "      <th>After</th>\n",
              "    </tr>\n",
              "  </thead>\n",
              "  <tbody>\n",
              "    <tr>\n",
              "      <th>0</th>\n",
              "      <td>What is Siebel CRM?</td>\n",
              "      <td>What is Siebel CRM?\\n\\nSiebel CRM is a framewo...</td>\n",
              "      <td>What is Siebel CRM?\\n\\nIn a nutshell, Siebel C...</td>\n",
              "    </tr>\n",
              "    <tr>\n",
              "      <th>1</th>\n",
              "      <td>Explain Siebel Workflow Policies in simple terms.</td>\n",
              "      <td>Explain Siebel Workflow Policies in simple ter...</td>\n",
              "      <td>Explain Siebel Workflow Policies in simple ter...</td>\n",
              "    </tr>\n",
              "    <tr>\n",
              "      <th>2</th>\n",
              "      <td>How does the Siebel Data Model organize busine...</td>\n",
              "      <td>How does the Siebel Data Model organize busine...</td>\n",
              "      <td>How does the Siebel Data Model organize busine...</td>\n",
              "    </tr>\n",
              "    <tr>\n",
              "      <th>3</th>\n",
              "      <td>what is importance of outer join flag?</td>\n",
              "      <td>what is importance of outer join flag?\\n\\nI'm ...</td>\n",
              "      <td>what is importance of outer join flag?\\nThe va...</td>\n",
              "    </tr>\n",
              "  </tbody>\n",
              "</table>\n",
              "</div>\n",
              "    <div class=\"colab-df-buttons\">\n",
              "\n",
              "  <div class=\"colab-df-container\">\n",
              "    <button class=\"colab-df-convert\" onclick=\"convertToInteractive('df-95cc2e02-fa58-4265-ad49-9a8d08c83cfc')\"\n",
              "            title=\"Convert this dataframe to an interactive table.\"\n",
              "            style=\"display:none;\">\n",
              "\n",
              "  <svg xmlns=\"http://www.w3.org/2000/svg\" height=\"24px\" viewBox=\"0 -960 960 960\">\n",
              "    <path d=\"M120-120v-720h720v720H120Zm60-500h600v-160H180v160Zm220 220h160v-160H400v160Zm0 220h160v-160H400v160ZM180-400h160v-160H180v160Zm440 0h160v-160H620v160ZM180-180h160v-160H180v160Zm440 0h160v-160H620v160Z\"/>\n",
              "  </svg>\n",
              "    </button>\n",
              "\n",
              "  <style>\n",
              "    .colab-df-container {\n",
              "      display:flex;\n",
              "      gap: 12px;\n",
              "    }\n",
              "\n",
              "    .colab-df-convert {\n",
              "      background-color: #E8F0FE;\n",
              "      border: none;\n",
              "      border-radius: 50%;\n",
              "      cursor: pointer;\n",
              "      display: none;\n",
              "      fill: #1967D2;\n",
              "      height: 32px;\n",
              "      padding: 0 0 0 0;\n",
              "      width: 32px;\n",
              "    }\n",
              "\n",
              "    .colab-df-convert:hover {\n",
              "      background-color: #E2EBFA;\n",
              "      box-shadow: 0px 1px 2px rgba(60, 64, 67, 0.3), 0px 1px 3px 1px rgba(60, 64, 67, 0.15);\n",
              "      fill: #174EA6;\n",
              "    }\n",
              "\n",
              "    .colab-df-buttons div {\n",
              "      margin-bottom: 4px;\n",
              "    }\n",
              "\n",
              "    [theme=dark] .colab-df-convert {\n",
              "      background-color: #3B4455;\n",
              "      fill: #D2E3FC;\n",
              "    }\n",
              "\n",
              "    [theme=dark] .colab-df-convert:hover {\n",
              "      background-color: #434B5C;\n",
              "      box-shadow: 0px 1px 3px 1px rgba(0, 0, 0, 0.15);\n",
              "      filter: drop-shadow(0px 1px 2px rgba(0, 0, 0, 0.3));\n",
              "      fill: #FFFFFF;\n",
              "    }\n",
              "  </style>\n",
              "\n",
              "    <script>\n",
              "      const buttonEl =\n",
              "        document.querySelector('#df-95cc2e02-fa58-4265-ad49-9a8d08c83cfc button.colab-df-convert');\n",
              "      buttonEl.style.display =\n",
              "        google.colab.kernel.accessAllowed ? 'block' : 'none';\n",
              "\n",
              "      async function convertToInteractive(key) {\n",
              "        const element = document.querySelector('#df-95cc2e02-fa58-4265-ad49-9a8d08c83cfc');\n",
              "        const dataTable =\n",
              "          await google.colab.kernel.invokeFunction('convertToInteractive',\n",
              "                                                    [key], {});\n",
              "        if (!dataTable) return;\n",
              "\n",
              "        const docLinkHtml = 'Like what you see? Visit the ' +\n",
              "          '<a target=\"_blank\" href=https://colab.research.google.com/notebooks/data_table.ipynb>data table notebook</a>'\n",
              "          + ' to learn more about interactive tables.';\n",
              "        element.innerHTML = '';\n",
              "        dataTable['output_type'] = 'display_data';\n",
              "        await google.colab.output.renderOutput(dataTable, element);\n",
              "        const docLink = document.createElement('div');\n",
              "        docLink.innerHTML = docLinkHtml;\n",
              "        element.appendChild(docLink);\n",
              "      }\n",
              "    </script>\n",
              "  </div>\n",
              "\n",
              "\n",
              "    <div id=\"df-960655e5-fc45-4763-8d81-ae1ec68a8f8f\">\n",
              "      <button class=\"colab-df-quickchart\" onclick=\"quickchart('df-960655e5-fc45-4763-8d81-ae1ec68a8f8f')\"\n",
              "                title=\"Suggest charts\"\n",
              "                style=\"display:none;\">\n",
              "\n",
              "<svg xmlns=\"http://www.w3.org/2000/svg\" height=\"24px\"viewBox=\"0 0 24 24\"\n",
              "     width=\"24px\">\n",
              "    <g>\n",
              "        <path d=\"M19 3H5c-1.1 0-2 .9-2 2v14c0 1.1.9 2 2 2h14c1.1 0 2-.9 2-2V5c0-1.1-.9-2-2-2zM9 17H7v-7h2v7zm4 0h-2V7h2v10zm4 0h-2v-4h2v4z\"/>\n",
              "    </g>\n",
              "</svg>\n",
              "      </button>\n",
              "\n",
              "<style>\n",
              "  .colab-df-quickchart {\n",
              "      --bg-color: #E8F0FE;\n",
              "      --fill-color: #1967D2;\n",
              "      --hover-bg-color: #E2EBFA;\n",
              "      --hover-fill-color: #174EA6;\n",
              "      --disabled-fill-color: #AAA;\n",
              "      --disabled-bg-color: #DDD;\n",
              "  }\n",
              "\n",
              "  [theme=dark] .colab-df-quickchart {\n",
              "      --bg-color: #3B4455;\n",
              "      --fill-color: #D2E3FC;\n",
              "      --hover-bg-color: #434B5C;\n",
              "      --hover-fill-color: #FFFFFF;\n",
              "      --disabled-bg-color: #3B4455;\n",
              "      --disabled-fill-color: #666;\n",
              "  }\n",
              "\n",
              "  .colab-df-quickchart {\n",
              "    background-color: var(--bg-color);\n",
              "    border: none;\n",
              "    border-radius: 50%;\n",
              "    cursor: pointer;\n",
              "    display: none;\n",
              "    fill: var(--fill-color);\n",
              "    height: 32px;\n",
              "    padding: 0;\n",
              "    width: 32px;\n",
              "  }\n",
              "\n",
              "  .colab-df-quickchart:hover {\n",
              "    background-color: var(--hover-bg-color);\n",
              "    box-shadow: 0 1px 2px rgba(60, 64, 67, 0.3), 0 1px 3px 1px rgba(60, 64, 67, 0.15);\n",
              "    fill: var(--button-hover-fill-color);\n",
              "  }\n",
              "\n",
              "  .colab-df-quickchart-complete:disabled,\n",
              "  .colab-df-quickchart-complete:disabled:hover {\n",
              "    background-color: var(--disabled-bg-color);\n",
              "    fill: var(--disabled-fill-color);\n",
              "    box-shadow: none;\n",
              "  }\n",
              "\n",
              "  .colab-df-spinner {\n",
              "    border: 2px solid var(--fill-color);\n",
              "    border-color: transparent;\n",
              "    border-bottom-color: var(--fill-color);\n",
              "    animation:\n",
              "      spin 1s steps(1) infinite;\n",
              "  }\n",
              "\n",
              "  @keyframes spin {\n",
              "    0% {\n",
              "      border-color: transparent;\n",
              "      border-bottom-color: var(--fill-color);\n",
              "      border-left-color: var(--fill-color);\n",
              "    }\n",
              "    20% {\n",
              "      border-color: transparent;\n",
              "      border-left-color: var(--fill-color);\n",
              "      border-top-color: var(--fill-color);\n",
              "    }\n",
              "    30% {\n",
              "      border-color: transparent;\n",
              "      border-left-color: var(--fill-color);\n",
              "      border-top-color: var(--fill-color);\n",
              "      border-right-color: var(--fill-color);\n",
              "    }\n",
              "    40% {\n",
              "      border-color: transparent;\n",
              "      border-right-color: var(--fill-color);\n",
              "      border-top-color: var(--fill-color);\n",
              "    }\n",
              "    60% {\n",
              "      border-color: transparent;\n",
              "      border-right-color: var(--fill-color);\n",
              "    }\n",
              "    80% {\n",
              "      border-color: transparent;\n",
              "      border-right-color: var(--fill-color);\n",
              "      border-bottom-color: var(--fill-color);\n",
              "    }\n",
              "    90% {\n",
              "      border-color: transparent;\n",
              "      border-bottom-color: var(--fill-color);\n",
              "    }\n",
              "  }\n",
              "</style>\n",
              "\n",
              "      <script>\n",
              "        async function quickchart(key) {\n",
              "          const quickchartButtonEl =\n",
              "            document.querySelector('#' + key + ' button');\n",
              "          quickchartButtonEl.disabled = true;  // To prevent multiple clicks.\n",
              "          quickchartButtonEl.classList.add('colab-df-spinner');\n",
              "          try {\n",
              "            const charts = await google.colab.kernel.invokeFunction(\n",
              "                'suggestCharts', [key], {});\n",
              "          } catch (error) {\n",
              "            console.error('Error during call to suggestCharts:', error);\n",
              "          }\n",
              "          quickchartButtonEl.classList.remove('colab-df-spinner');\n",
              "          quickchartButtonEl.classList.add('colab-df-quickchart-complete');\n",
              "        }\n",
              "        (() => {\n",
              "          let quickchartButtonEl =\n",
              "            document.querySelector('#df-960655e5-fc45-4763-8d81-ae1ec68a8f8f button');\n",
              "          quickchartButtonEl.style.display =\n",
              "            google.colab.kernel.accessAllowed ? 'block' : 'none';\n",
              "        })();\n",
              "      </script>\n",
              "    </div>\n",
              "\n",
              "  <div id=\"id_ec7c5c9a-2122-4084-b679-fe05a7273a6a\">\n",
              "    <style>\n",
              "      .colab-df-generate {\n",
              "        background-color: #E8F0FE;\n",
              "        border: none;\n",
              "        border-radius: 50%;\n",
              "        cursor: pointer;\n",
              "        display: none;\n",
              "        fill: #1967D2;\n",
              "        height: 32px;\n",
              "        padding: 0 0 0 0;\n",
              "        width: 32px;\n",
              "      }\n",
              "\n",
              "      .colab-df-generate:hover {\n",
              "        background-color: #E2EBFA;\n",
              "        box-shadow: 0px 1px 2px rgba(60, 64, 67, 0.3), 0px 1px 3px 1px rgba(60, 64, 67, 0.15);\n",
              "        fill: #174EA6;\n",
              "      }\n",
              "\n",
              "      [theme=dark] .colab-df-generate {\n",
              "        background-color: #3B4455;\n",
              "        fill: #D2E3FC;\n",
              "      }\n",
              "\n",
              "      [theme=dark] .colab-df-generate:hover {\n",
              "        background-color: #434B5C;\n",
              "        box-shadow: 0px 1px 3px 1px rgba(0, 0, 0, 0.15);\n",
              "        filter: drop-shadow(0px 1px 2px rgba(0, 0, 0, 0.3));\n",
              "        fill: #FFFFFF;\n",
              "      }\n",
              "    </style>\n",
              "    <button class=\"colab-df-generate\" onclick=\"generateWithVariable('df')\"\n",
              "            title=\"Generate code using this dataframe.\"\n",
              "            style=\"display:none;\">\n",
              "\n",
              "  <svg xmlns=\"http://www.w3.org/2000/svg\" height=\"24px\"viewBox=\"0 0 24 24\"\n",
              "       width=\"24px\">\n",
              "    <path d=\"M7,19H8.4L18.45,9,17,7.55,7,17.6ZM5,21V16.75L18.45,3.32a2,2,0,0,1,2.83,0l1.4,1.43a1.91,1.91,0,0,1,.58,1.4,1.91,1.91,0,0,1-.58,1.4L9.25,21ZM18.45,9,17,7.55Zm-12,3A5.31,5.31,0,0,0,4.9,8.1,5.31,5.31,0,0,0,1,6.5,5.31,5.31,0,0,0,4.9,4.9,5.31,5.31,0,0,0,6.5,1,5.31,5.31,0,0,0,8.1,4.9,5.31,5.31,0,0,0,12,6.5,5.46,5.46,0,0,0,6.5,12Z\"/>\n",
              "  </svg>\n",
              "    </button>\n",
              "    <script>\n",
              "      (() => {\n",
              "      const buttonEl =\n",
              "        document.querySelector('#id_ec7c5c9a-2122-4084-b679-fe05a7273a6a button.colab-df-generate');\n",
              "      buttonEl.style.display =\n",
              "        google.colab.kernel.accessAllowed ? 'block' : 'none';\n",
              "\n",
              "      buttonEl.onclick = () => {\n",
              "        google.colab.notebook.generateWithVariable('df');\n",
              "      }\n",
              "      })();\n",
              "    </script>\n",
              "  </div>\n",
              "\n",
              "    </div>\n",
              "  </div>\n"
            ],
            "text/plain": [
              "                                              Prompt  \\\n",
              "0                                What is Siebel CRM?   \n",
              "1  Explain Siebel Workflow Policies in simple terms.   \n",
              "2  How does the Siebel Data Model organize busine...   \n",
              "3             what is importance of outer join flag?   \n",
              "\n",
              "                                              Before  \\\n",
              "0  What is Siebel CRM?\\n\\nSiebel CRM is a framewo...   \n",
              "1  Explain Siebel Workflow Policies in simple ter...   \n",
              "2  How does the Siebel Data Model organize busine...   \n",
              "3  what is importance of outer join flag?\\n\\nI'm ...   \n",
              "\n",
              "                                               After  \n",
              "0  What is Siebel CRM?\\n\\nIn a nutshell, Siebel C...  \n",
              "1  Explain Siebel Workflow Policies in simple ter...  \n",
              "2  How does the Siebel Data Model organize busine...  \n",
              "3  what is importance of outer join flag?\\nThe va...  "
            ]
          },
          "metadata": {},
          "output_type": "display_data"
        }
      ],
      "source": [
        "\n",
        "from transformers import pipeline\n",
        "import pandas as pd\n",
        "\n",
        "gen_pipe_after = pipeline(\"text-generation\", model=base_model, tokenizer=tokenizer, device_map=\"auto\")\n",
        "\n",
        "after_outputs = generate_list(gen_pipe_after, prompts)\n",
        "\n",
        "df = pd.DataFrame({\n",
        "    \"Prompt\": prompts,\n",
        "    \"Before\": before_outputs,\n",
        "    \"After\": after_outputs\n",
        "})\n",
        "\n",
        "# Display side-by-side\n",
        "import IPython\n",
        "IPython.display.display(df)\n"
      ]
    },
    {
      "cell_type": "markdown",
      "id": "cf9e7881",
      "metadata": {
        "id": "cf9e7881"
      },
      "source": [
        "## 7) (Optional) Perplexity on the test split"
      ]
    },
    {
      "cell_type": "code",
      "execution_count": 14,
      "id": "e29cd050",
      "metadata": {
        "colab": {
          "base_uri": "https://localhost:8080/",
          "height": 55
        },
        "id": "e29cd050",
        "outputId": "6b62bace-33e6-45c8-cf6a-76e0f05d42db"
      },
      "outputs": [
        {
          "data": {
            "text/html": [
              "\n",
              "    <div>\n",
              "      \n",
              "      <progress value='8' max='4' style='width:300px; height:20px; vertical-align: middle;'></progress>\n",
              "      [4/4 03:50]\n",
              "    </div>\n",
              "    "
            ],
            "text/plain": [
              "<IPython.core.display.HTML object>"
            ]
          },
          "metadata": {},
          "output_type": "display_data"
        },
        {
          "name": "stdout",
          "output_type": "stream",
          "text": [
            "Perplexity: 8.303968649153008\n"
          ]
        }
      ],
      "source": [
        "\n",
        "import math\n",
        "metrics = trainer.evaluate(eval_dataset=test_ds)\n",
        "try:\n",
        "    perplexity = math.exp(metrics[\"eval_loss\"])\n",
        "except OverflowError:\n",
        "    perplexity = float(\"inf\")\n",
        "print(\"Perplexity:\", perplexity)\n"
      ]
    },
    {
      "cell_type": "markdown",
      "id": "ffef8b7f",
      "metadata": {
        "id": "ffef8b7f"
      },
      "source": [
        "## 8) Save / Download your fine-tuned model"
      ]
    },
    {
      "cell_type": "code",
      "execution_count": null,
      "id": "fff60e96",
      "metadata": {
        "id": "fff60e96"
      },
      "outputs": [],
      "source": [
        "\n",
        "import os, shutil\n",
        "\n",
        "save_dir = \"./fine_tuned_siebel_gpt2\"\n",
        "trainer.save_model(save_dir)\n",
        "tokenizer.save_pretrained(save_dir)\n",
        "\n",
        "# Zip for easy download\n",
        "shutil.make_archive(\"fine_tuned_siebel_gpt2\", \"zip\", save_dir)\n",
        "from google.colab import files\n",
        "files.download(\"fine_tuned_siebel_gpt2.zip\")\n"
      ]
    }
  ],
  "metadata": {
    "accelerator": "GPU",
    "colab": {
      "gpuType": "T4",
      "provenance": []
    },
    "kernelspec": {
      "display_name": "Python 3",
      "name": "python3"
    },
    "language_info": {
      "name": "python"
    }
  },
  "nbformat": 4,
  "nbformat_minor": 5
}
